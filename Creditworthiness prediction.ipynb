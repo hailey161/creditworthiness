{
  "nbformat": 4,
  "nbformat_minor": 0,
  "metadata": {
    "colab": {
      "provenance": [],
      "toc_visible": true
    },
    "kernelspec": {
      "name": "ir",
      "display_name": "R"
    },
    "language_info": {
      "name": "R"
    }
  },
  "cells": [
    {
      "cell_type": "markdown",
      "source": [
        "# Data Preprocessing"
      ],
      "metadata": {
        "id": "DVksvpbjlNyv"
      }
    },
    {
      "cell_type": "code",
      "source": [
        "data <- read.csv(\"creditworthiness.csv\")\n",
        "head(data,5)"
      ],
      "metadata": {
        "colab": {
          "base_uri": "https://localhost:8080/",
          "height": 275
        },
        "id": "SZYhC6BlgE8D",
        "outputId": "3e0268ab-a310-4998-80d4-1ece43352e1b"
      },
      "execution_count": null,
      "outputs": [
        {
          "output_type": "display_data",
          "data": {
            "text/html": [
              "<table class=\"dataframe\">\n",
              "<caption>A data.frame: 5 × 46</caption>\n",
              "<thead>\n",
              "\t<tr><th></th><th scope=col>functionary</th><th scope=col>re.balanced..paid.back..a.recently.overdrawn.current.acount</th><th scope=col>FI3O.credit.score</th><th scope=col>gender</th><th scope=col>X0..accounts.at.other.banks</th><th scope=col>credit.refused.in.past.</th><th scope=col>years.employed</th><th scope=col>savings.on.other.accounts</th><th scope=col>self.employed.</th><th scope=col>max..account.balance.12.months.ago</th><th scope=col>⋯</th><th scope=col>max..account.balance.3.months.ago</th><th scope=col>min..account.balance.3.months.ago</th><th scope=col>avrg..account.balance.3.months.ago</th><th scope=col>max..account.balance.2.months.ago</th><th scope=col>min..account.balance.2.months.ago</th><th scope=col>avrg..account.balance.2.months.ago</th><th scope=col>max..account.balance.1.months.ago</th><th scope=col>min..account.balance.1.months.ago</th><th scope=col>avrg..account.balance.1.months.ago</th><th scope=col>credit.rating</th></tr>\n",
              "\t<tr><th></th><th scope=col>&lt;int&gt;</th><th scope=col>&lt;int&gt;</th><th scope=col>&lt;int&gt;</th><th scope=col>&lt;int&gt;</th><th scope=col>&lt;int&gt;</th><th scope=col>&lt;int&gt;</th><th scope=col>&lt;int&gt;</th><th scope=col>&lt;int&gt;</th><th scope=col>&lt;int&gt;</th><th scope=col>&lt;int&gt;</th><th scope=col>⋯</th><th scope=col>&lt;int&gt;</th><th scope=col>&lt;int&gt;</th><th scope=col>&lt;int&gt;</th><th scope=col>&lt;int&gt;</th><th scope=col>&lt;int&gt;</th><th scope=col>&lt;int&gt;</th><th scope=col>&lt;int&gt;</th><th scope=col>&lt;int&gt;</th><th scope=col>&lt;int&gt;</th><th scope=col>&lt;int&gt;</th></tr>\n",
              "</thead>\n",
              "<tbody>\n",
              "\t<tr><th scope=row>1</th><td>1</td><td>1</td><td>0</td><td>0</td><td>4</td><td>1</td><td>3</td><td>3</td><td>1</td><td>4</td><td>⋯</td><td>2</td><td>1</td><td>2</td><td>5</td><td>2</td><td>5</td><td>1</td><td>5</td><td>4</td><td>0</td></tr>\n",
              "\t<tr><th scope=row>2</th><td>0</td><td>0</td><td>1</td><td>0</td><td>1</td><td>0</td><td>5</td><td>2</td><td>1</td><td>3</td><td>⋯</td><td>3</td><td>2</td><td>1</td><td>5</td><td>5</td><td>5</td><td>4</td><td>4</td><td>1</td><td>0</td></tr>\n",
              "\t<tr><th scope=row>3</th><td>0</td><td>1</td><td>0</td><td>1</td><td>4</td><td>0</td><td>3</td><td>3</td><td>1</td><td>5</td><td>⋯</td><td>3</td><td>1</td><td>3</td><td>3</td><td>5</td><td>5</td><td>5</td><td>3</td><td>2</td><td>0</td></tr>\n",
              "\t<tr><th scope=row>4</th><td>0</td><td>1</td><td>0</td><td>0</td><td>5</td><td>0</td><td>1</td><td>1</td><td>0</td><td>2</td><td>⋯</td><td>4</td><td>4</td><td>5</td><td>5</td><td>5</td><td>3</td><td>1</td><td>1</td><td>4</td><td>0</td></tr>\n",
              "\t<tr><th scope=row>5</th><td>1</td><td>1</td><td>1</td><td>0</td><td>2</td><td>0</td><td>1</td><td>1</td><td>0</td><td>1</td><td>⋯</td><td>5</td><td>2</td><td>5</td><td>1</td><td>3</td><td>4</td><td>2</td><td>5</td><td>5</td><td>2</td></tr>\n",
              "</tbody>\n",
              "</table>\n"
            ],
            "text/markdown": "\nA data.frame: 5 × 46\n\n| <!--/--> | functionary &lt;int&gt; | re.balanced..paid.back..a.recently.overdrawn.current.acount &lt;int&gt; | FI3O.credit.score &lt;int&gt; | gender &lt;int&gt; | X0..accounts.at.other.banks &lt;int&gt; | credit.refused.in.past. &lt;int&gt; | years.employed &lt;int&gt; | savings.on.other.accounts &lt;int&gt; | self.employed. &lt;int&gt; | max..account.balance.12.months.ago &lt;int&gt; | ⋯ ⋯ | max..account.balance.3.months.ago &lt;int&gt; | min..account.balance.3.months.ago &lt;int&gt; | avrg..account.balance.3.months.ago &lt;int&gt; | max..account.balance.2.months.ago &lt;int&gt; | min..account.balance.2.months.ago &lt;int&gt; | avrg..account.balance.2.months.ago &lt;int&gt; | max..account.balance.1.months.ago &lt;int&gt; | min..account.balance.1.months.ago &lt;int&gt; | avrg..account.balance.1.months.ago &lt;int&gt; | credit.rating &lt;int&gt; |\n|---|---|---|---|---|---|---|---|---|---|---|---|---|---|---|---|---|---|---|---|---|---|\n| 1 | 1 | 1 | 0 | 0 | 4 | 1 | 3 | 3 | 1 | 4 | ⋯ | 2 | 1 | 2 | 5 | 2 | 5 | 1 | 5 | 4 | 0 |\n| 2 | 0 | 0 | 1 | 0 | 1 | 0 | 5 | 2 | 1 | 3 | ⋯ | 3 | 2 | 1 | 5 | 5 | 5 | 4 | 4 | 1 | 0 |\n| 3 | 0 | 1 | 0 | 1 | 4 | 0 | 3 | 3 | 1 | 5 | ⋯ | 3 | 1 | 3 | 3 | 5 | 5 | 5 | 3 | 2 | 0 |\n| 4 | 0 | 1 | 0 | 0 | 5 | 0 | 1 | 1 | 0 | 2 | ⋯ | 4 | 4 | 5 | 5 | 5 | 3 | 1 | 1 | 4 | 0 |\n| 5 | 1 | 1 | 1 | 0 | 2 | 0 | 1 | 1 | 0 | 1 | ⋯ | 5 | 2 | 5 | 1 | 3 | 4 | 2 | 5 | 5 | 2 |\n\n",
            "text/latex": "A data.frame: 5 × 46\n\\begin{tabular}{r|lllllllllllllllllllll}\n  & functionary & re.balanced..paid.back..a.recently.overdrawn.current.acount & FI3O.credit.score & gender & X0..accounts.at.other.banks & credit.refused.in.past. & years.employed & savings.on.other.accounts & self.employed. & max..account.balance.12.months.ago & ⋯ & max..account.balance.3.months.ago & min..account.balance.3.months.ago & avrg..account.balance.3.months.ago & max..account.balance.2.months.ago & min..account.balance.2.months.ago & avrg..account.balance.2.months.ago & max..account.balance.1.months.ago & min..account.balance.1.months.ago & avrg..account.balance.1.months.ago & credit.rating\\\\\n  & <int> & <int> & <int> & <int> & <int> & <int> & <int> & <int> & <int> & <int> & ⋯ & <int> & <int> & <int> & <int> & <int> & <int> & <int> & <int> & <int> & <int>\\\\\n\\hline\n\t1 & 1 & 1 & 0 & 0 & 4 & 1 & 3 & 3 & 1 & 4 & ⋯ & 2 & 1 & 2 & 5 & 2 & 5 & 1 & 5 & 4 & 0\\\\\n\t2 & 0 & 0 & 1 & 0 & 1 & 0 & 5 & 2 & 1 & 3 & ⋯ & 3 & 2 & 1 & 5 & 5 & 5 & 4 & 4 & 1 & 0\\\\\n\t3 & 0 & 1 & 0 & 1 & 4 & 0 & 3 & 3 & 1 & 5 & ⋯ & 3 & 1 & 3 & 3 & 5 & 5 & 5 & 3 & 2 & 0\\\\\n\t4 & 0 & 1 & 0 & 0 & 5 & 0 & 1 & 1 & 0 & 2 & ⋯ & 4 & 4 & 5 & 5 & 5 & 3 & 1 & 1 & 4 & 0\\\\\n\t5 & 1 & 1 & 1 & 0 & 2 & 0 & 1 & 1 & 0 & 1 & ⋯ & 5 & 2 & 5 & 1 & 3 & 4 & 2 & 5 & 5 & 2\\\\\n\\end{tabular}\n",
            "text/plain": [
              "  functionary re.balanced..paid.back..a.recently.overdrawn.current.acount\n",
              "1 1           1                                                          \n",
              "2 0           0                                                          \n",
              "3 0           1                                                          \n",
              "4 0           1                                                          \n",
              "5 1           1                                                          \n",
              "  FI3O.credit.score gender X0..accounts.at.other.banks credit.refused.in.past.\n",
              "1 0                 0      4                           1                      \n",
              "2 1                 0      1                           0                      \n",
              "3 0                 1      4                           0                      \n",
              "4 0                 0      5                           0                      \n",
              "5 1                 0      2                           0                      \n",
              "  years.employed savings.on.other.accounts self.employed.\n",
              "1 3              3                         1             \n",
              "2 5              2                         1             \n",
              "3 3              3                         1             \n",
              "4 1              1                         0             \n",
              "5 1              1                         0             \n",
              "  max..account.balance.12.months.ago ⋯ max..account.balance.3.months.ago\n",
              "1 4                                  ⋯ 2                                \n",
              "2 3                                  ⋯ 3                                \n",
              "3 5                                  ⋯ 3                                \n",
              "4 2                                  ⋯ 4                                \n",
              "5 1                                  ⋯ 5                                \n",
              "  min..account.balance.3.months.ago avrg..account.balance.3.months.ago\n",
              "1 1                                 2                                 \n",
              "2 2                                 1                                 \n",
              "3 1                                 3                                 \n",
              "4 4                                 5                                 \n",
              "5 2                                 5                                 \n",
              "  max..account.balance.2.months.ago min..account.balance.2.months.ago\n",
              "1 5                                 2                                \n",
              "2 5                                 5                                \n",
              "3 3                                 5                                \n",
              "4 5                                 5                                \n",
              "5 1                                 3                                \n",
              "  avrg..account.balance.2.months.ago max..account.balance.1.months.ago\n",
              "1 5                                  1                                \n",
              "2 5                                  4                                \n",
              "3 5                                  5                                \n",
              "4 3                                  1                                \n",
              "5 4                                  2                                \n",
              "  min..account.balance.1.months.ago avrg..account.balance.1.months.ago\n",
              "1 5                                 4                                 \n",
              "2 4                                 1                                 \n",
              "3 3                                 2                                 \n",
              "4 1                                 4                                 \n",
              "5 5                                 5                                 \n",
              "  credit.rating\n",
              "1 0            \n",
              "2 0            \n",
              "3 0            \n",
              "4 0            \n",
              "5 2            "
            ]
          },
          "metadata": {}
        }
      ]
    },
    {
      "cell_type": "code",
      "source": [
        "#select all entries for which the credit rating is known\n",
        "knownData <- subset(data, data[,46] > 0)\n",
        "\n",
        "#select all entries for which the credit rating is unknown\n",
        "unknownData <- subset(data, data[,46] == 0)"
      ],
      "metadata": {
        "id": "6FObhRy8iefs"
      },
      "execution_count": null,
      "outputs": []
    },
    {
      "cell_type": "code",
      "source": [
        "install.packages(c(\"caret\",\"tree\", \"rpart\", \"rpart.plot\", \"randomForest\"))\n",
        "library(tree)\n",
        "library(rpart)\n",
        "library(rpart.plot)\n",
        "library(randomForest)\n",
        "library(caret)\n"
      ],
      "metadata": {
        "colab": {
          "base_uri": "https://localhost:8080/"
        },
        "id": "BBWuGldFlKPF",
        "outputId": "9948446c-fe22-4bcc-d5d4-d57c029bc3b4"
      },
      "execution_count": null,
      "outputs": [
        {
          "output_type": "stream",
          "name": "stderr",
          "text": [
            "Installing packages into ‘/usr/local/lib/R/site-library’\n",
            "(as ‘lib’ is unspecified)\n",
            "\n",
            "also installing the dependencies ‘listenv’, ‘parallelly’, ‘future’, ‘globals’, ‘shape’, ‘future.apply’, ‘numDeriv’, ‘progressr’, ‘SQUAREM’, ‘diagram’, ‘lava’, ‘prodlim’, ‘proxy’, ‘iterators’, ‘Rcpp’, ‘clock’, ‘gower’, ‘hardhat’, ‘ipred’, ‘timeDate’, ‘e1071’, ‘foreach’, ‘ModelMetrics’, ‘plyr’, ‘pROC’, ‘recipes’, ‘reshape2’\n",
            "\n",
            "\n",
            "randomForest 4.7-1.1\n",
            "\n",
            "Type rfNews() to see new features/changes/bug fixes.\n",
            "\n",
            "Loading required package: ggplot2\n",
            "\n",
            "\n",
            "Attaching package: ‘ggplot2’\n",
            "\n",
            "\n",
            "The following object is masked from ‘package:randomForest’:\n",
            "\n",
            "    margin\n",
            "\n",
            "\n",
            "Loading required package: lattice\n",
            "\n"
          ]
        }
      ]
    },
    {
      "cell_type": "code",
      "source": [
        "# Set the seed\n",
        "set.seed(123)\n",
        "\n",
        "## split 50 for training and 50 for testing\n",
        "set <- sample(1:nrow(knownData),nrow(knownData)/2,\n",
        "replace=FALSE)\n",
        "train=knownData[set, ] # Create training set\n",
        "test=knownData[-set, ] # Create test set\n",
        "\n",
        "# Convert credit.rating to factor with levels 1, 2, 3\n",
        "train$credit.rating <- factor(train$credit.rating, levels = c(1, 2, 3))\n",
        "test$credit.rating <- factor(test$credit.rating, levels = c(1, 2, 3))"
      ],
      "metadata": {
        "id": "3BXa_6erpePh"
      },
      "execution_count": null,
      "outputs": []
    },
    {
      "cell_type": "code",
      "source": [
        "colSums(is.na(train)) #check any missing value"
      ],
      "metadata": {
        "colab": {
          "base_uri": "https://localhost:8080/",
          "height": 208
        },
        "id": "orDzQ7JRIruN",
        "outputId": "3bacdb0e-475e-435e-f1f7-48b4f6e29627"
      },
      "execution_count": null,
      "outputs": [
        {
          "output_type": "display_data",
          "data": {
            "text/html": [
              "<style>\n",
              ".dl-inline {width: auto; margin:0; padding: 0}\n",
              ".dl-inline>dt, .dl-inline>dd {float: none; width: auto; display: inline-block}\n",
              ".dl-inline>dt::after {content: \":\\0020\"; padding-right: .5ex}\n",
              ".dl-inline>dt:not(:first-of-type) {padding-left: .5ex}\n",
              "</style><dl class=dl-inline><dt>functionary</dt><dd>0</dd><dt>re.balanced..paid.back..a.recently.overdrawn.current.acount</dt><dd>0</dd><dt>FI3O.credit.score</dt><dd>0</dd><dt>gender</dt><dd>0</dd><dt>X0..accounts.at.other.banks</dt><dd>0</dd><dt>credit.refused.in.past.</dt><dd>0</dd><dt>years.employed</dt><dd>0</dd><dt>savings.on.other.accounts</dt><dd>0</dd><dt>self.employed.</dt><dd>0</dd><dt>max..account.balance.12.months.ago</dt><dd>0</dd><dt>min..account.balance.12.months.ago</dt><dd>0</dd><dt>avrg..account.balance.12.months.ago</dt><dd>0</dd><dt>max..account.balance.11.months.ago</dt><dd>0</dd><dt>min..account.balance.11.months.ago</dt><dd>0</dd><dt>avrg..account.balance.11.months.ago</dt><dd>0</dd><dt>max..account.balance.10.months.ago</dt><dd>0</dd><dt>min..account.balance.10.months.ago</dt><dd>0</dd><dt>avrg..account.balance.10.months.ago</dt><dd>0</dd><dt>max..account.balance.9.months.ago</dt><dd>0</dd><dt>min..account.balance.9.months.ago</dt><dd>0</dd><dt>avrg..account.balance.9.months.ago</dt><dd>0</dd><dt>max..account.balance.8.months.ago</dt><dd>0</dd><dt>min..account.balance.8.months.ago</dt><dd>0</dd><dt>avrg..account.balance.8.months.ago</dt><dd>0</dd><dt>max..account.balance.7.months.ago</dt><dd>0</dd><dt>min..account.balance.7.months.ago</dt><dd>0</dd><dt>avrg..account.balance.7.months.ago</dt><dd>0</dd><dt>max..account.balance.6.months.ago</dt><dd>0</dd><dt>min..account.balance.6.months.ago</dt><dd>0</dd><dt>avrg..account.balance.6.months.ago</dt><dd>0</dd><dt>max..account.balance.5.months.ago</dt><dd>0</dd><dt>min..account.balance.5.months.ago</dt><dd>0</dd><dt>avrg..account.balance.5.months.ago</dt><dd>0</dd><dt>max..account.balance.4.months.ago</dt><dd>0</dd><dt>min..account.balance.4.months.ago</dt><dd>0</dd><dt>avrg..account.balance.4.months.ago</dt><dd>0</dd><dt>max..account.balance.3.months.ago</dt><dd>0</dd><dt>min..account.balance.3.months.ago</dt><dd>0</dd><dt>avrg..account.balance.3.months.ago</dt><dd>0</dd><dt>max..account.balance.2.months.ago</dt><dd>0</dd><dt>min..account.balance.2.months.ago</dt><dd>0</dd><dt>avrg..account.balance.2.months.ago</dt><dd>0</dd><dt>max..account.balance.1.months.ago</dt><dd>0</dd><dt>min..account.balance.1.months.ago</dt><dd>0</dd><dt>avrg..account.balance.1.months.ago</dt><dd>0</dd><dt>credit.rating</dt><dd>0</dd></dl>\n"
            ],
            "text/markdown": "functionary\n:   0re.balanced..paid.back..a.recently.overdrawn.current.acount\n:   0FI3O.credit.score\n:   0gender\n:   0X0..accounts.at.other.banks\n:   0credit.refused.in.past.\n:   0years.employed\n:   0savings.on.other.accounts\n:   0self.employed.\n:   0max..account.balance.12.months.ago\n:   0min..account.balance.12.months.ago\n:   0avrg..account.balance.12.months.ago\n:   0max..account.balance.11.months.ago\n:   0min..account.balance.11.months.ago\n:   0avrg..account.balance.11.months.ago\n:   0max..account.balance.10.months.ago\n:   0min..account.balance.10.months.ago\n:   0avrg..account.balance.10.months.ago\n:   0max..account.balance.9.months.ago\n:   0min..account.balance.9.months.ago\n:   0avrg..account.balance.9.months.ago\n:   0max..account.balance.8.months.ago\n:   0min..account.balance.8.months.ago\n:   0avrg..account.balance.8.months.ago\n:   0max..account.balance.7.months.ago\n:   0min..account.balance.7.months.ago\n:   0avrg..account.balance.7.months.ago\n:   0max..account.balance.6.months.ago\n:   0min..account.balance.6.months.ago\n:   0avrg..account.balance.6.months.ago\n:   0max..account.balance.5.months.ago\n:   0min..account.balance.5.months.ago\n:   0avrg..account.balance.5.months.ago\n:   0max..account.balance.4.months.ago\n:   0min..account.balance.4.months.ago\n:   0avrg..account.balance.4.months.ago\n:   0max..account.balance.3.months.ago\n:   0min..account.balance.3.months.ago\n:   0avrg..account.balance.3.months.ago\n:   0max..account.balance.2.months.ago\n:   0min..account.balance.2.months.ago\n:   0avrg..account.balance.2.months.ago\n:   0max..account.balance.1.months.ago\n:   0min..account.balance.1.months.ago\n:   0avrg..account.balance.1.months.ago\n:   0credit.rating\n:   0\n\n",
            "text/latex": "\\begin{description*}\n\\item[functionary] 0\n\\item[re.balanced..paid.back..a.recently.overdrawn.current.acount] 0\n\\item[FI3O.credit.score] 0\n\\item[gender] 0\n\\item[X0..accounts.at.other.banks] 0\n\\item[credit.refused.in.past.] 0\n\\item[years.employed] 0\n\\item[savings.on.other.accounts] 0\n\\item[self.employed.] 0\n\\item[max..account.balance.12.months.ago] 0\n\\item[min..account.balance.12.months.ago] 0\n\\item[avrg..account.balance.12.months.ago] 0\n\\item[max..account.balance.11.months.ago] 0\n\\item[min..account.balance.11.months.ago] 0\n\\item[avrg..account.balance.11.months.ago] 0\n\\item[max..account.balance.10.months.ago] 0\n\\item[min..account.balance.10.months.ago] 0\n\\item[avrg..account.balance.10.months.ago] 0\n\\item[max..account.balance.9.months.ago] 0\n\\item[min..account.balance.9.months.ago] 0\n\\item[avrg..account.balance.9.months.ago] 0\n\\item[max..account.balance.8.months.ago] 0\n\\item[min..account.balance.8.months.ago] 0\n\\item[avrg..account.balance.8.months.ago] 0\n\\item[max..account.balance.7.months.ago] 0\n\\item[min..account.balance.7.months.ago] 0\n\\item[avrg..account.balance.7.months.ago] 0\n\\item[max..account.balance.6.months.ago] 0\n\\item[min..account.balance.6.months.ago] 0\n\\item[avrg..account.balance.6.months.ago] 0\n\\item[max..account.balance.5.months.ago] 0\n\\item[min..account.balance.5.months.ago] 0\n\\item[avrg..account.balance.5.months.ago] 0\n\\item[max..account.balance.4.months.ago] 0\n\\item[min..account.balance.4.months.ago] 0\n\\item[avrg..account.balance.4.months.ago] 0\n\\item[max..account.balance.3.months.ago] 0\n\\item[min..account.balance.3.months.ago] 0\n\\item[avrg..account.balance.3.months.ago] 0\n\\item[max..account.balance.2.months.ago] 0\n\\item[min..account.balance.2.months.ago] 0\n\\item[avrg..account.balance.2.months.ago] 0\n\\item[max..account.balance.1.months.ago] 0\n\\item[min..account.balance.1.months.ago] 0\n\\item[avrg..account.balance.1.months.ago] 0\n\\item[credit.rating] 0\n\\end{description*}\n",
            "text/plain": [
              "                                                functionary \n",
              "                                                          0 \n",
              "re.balanced..paid.back..a.recently.overdrawn.current.acount \n",
              "                                                          0 \n",
              "                                          FI3O.credit.score \n",
              "                                                          0 \n",
              "                                                     gender \n",
              "                                                          0 \n",
              "                                X0..accounts.at.other.banks \n",
              "                                                          0 \n",
              "                                    credit.refused.in.past. \n",
              "                                                          0 \n",
              "                                             years.employed \n",
              "                                                          0 \n",
              "                                  savings.on.other.accounts \n",
              "                                                          0 \n",
              "                                             self.employed. \n",
              "                                                          0 \n",
              "                         max..account.balance.12.months.ago \n",
              "                                                          0 \n",
              "                         min..account.balance.12.months.ago \n",
              "                                                          0 \n",
              "                        avrg..account.balance.12.months.ago \n",
              "                                                          0 \n",
              "                         max..account.balance.11.months.ago \n",
              "                                                          0 \n",
              "                         min..account.balance.11.months.ago \n",
              "                                                          0 \n",
              "                        avrg..account.balance.11.months.ago \n",
              "                                                          0 \n",
              "                         max..account.balance.10.months.ago \n",
              "                                                          0 \n",
              "                         min..account.balance.10.months.ago \n",
              "                                                          0 \n",
              "                        avrg..account.balance.10.months.ago \n",
              "                                                          0 \n",
              "                          max..account.balance.9.months.ago \n",
              "                                                          0 \n",
              "                          min..account.balance.9.months.ago \n",
              "                                                          0 \n",
              "                         avrg..account.balance.9.months.ago \n",
              "                                                          0 \n",
              "                          max..account.balance.8.months.ago \n",
              "                                                          0 \n",
              "                          min..account.balance.8.months.ago \n",
              "                                                          0 \n",
              "                         avrg..account.balance.8.months.ago \n",
              "                                                          0 \n",
              "                          max..account.balance.7.months.ago \n",
              "                                                          0 \n",
              "                          min..account.balance.7.months.ago \n",
              "                                                          0 \n",
              "                         avrg..account.balance.7.months.ago \n",
              "                                                          0 \n",
              "                          max..account.balance.6.months.ago \n",
              "                                                          0 \n",
              "                          min..account.balance.6.months.ago \n",
              "                                                          0 \n",
              "                         avrg..account.balance.6.months.ago \n",
              "                                                          0 \n",
              "                          max..account.balance.5.months.ago \n",
              "                                                          0 \n",
              "                          min..account.balance.5.months.ago \n",
              "                                                          0 \n",
              "                         avrg..account.balance.5.months.ago \n",
              "                                                          0 \n",
              "                          max..account.balance.4.months.ago \n",
              "                                                          0 \n",
              "                          min..account.balance.4.months.ago \n",
              "                                                          0 \n",
              "                         avrg..account.balance.4.months.ago \n",
              "                                                          0 \n",
              "                          max..account.balance.3.months.ago \n",
              "                                                          0 \n",
              "                          min..account.balance.3.months.ago \n",
              "                                                          0 \n",
              "                         avrg..account.balance.3.months.ago \n",
              "                                                          0 \n",
              "                          max..account.balance.2.months.ago \n",
              "                                                          0 \n",
              "                          min..account.balance.2.months.ago \n",
              "                                                          0 \n",
              "                         avrg..account.balance.2.months.ago \n",
              "                                                          0 \n",
              "                          max..account.balance.1.months.ago \n",
              "                                                          0 \n",
              "                          min..account.balance.1.months.ago \n",
              "                                                          0 \n",
              "                         avrg..account.balance.1.months.ago \n",
              "                                                          0 \n",
              "                                              credit.rating \n",
              "                                                          0 "
            ]
          },
          "metadata": {}
        }
      ]
    },
    {
      "cell_type": "markdown",
      "source": [
        "After processing the data, we can start training the data"
      ],
      "metadata": {
        "id": "1wOCIv0k6lC8"
      }
    },
    {
      "cell_type": "markdown",
      "source": [
        "## Decision Tree"
      ],
      "metadata": {
        "id": "O1iT8cxrGiEE"
      }
    },
    {
      "cell_type": "code",
      "source": [
        "model <- rpart(train$credit.rating ~ ., data = train)\n",
        "print(model)"
      ],
      "metadata": {
        "colab": {
          "base_uri": "https://localhost:8080/"
        },
        "id": "7KGVV7q2GfcN",
        "outputId": "e96a7571-b0ea-42e4-b7a2-8277be747297"
      },
      "execution_count": null,
      "outputs": [
        {
          "output_type": "stream",
          "name": "stdout",
          "text": [
            "n= 981 \n",
            "\n",
            "node), split, n, loss, yval, (yprob)\n",
            "      * denotes terminal node\n",
            "\n",
            " 1) root 981 488 2 (0.24974516 0.50254842 0.24770642)  \n",
            "   2) functionary>=0.5 300 147 1 (0.51000000 0.34000000 0.15000000)  \n",
            "     4) FI3O.credit.score>=0.5 291 138 1 (0.52577320 0.34707904 0.12714777) *\n",
            "     5) FI3O.credit.score< 0.5 9   1 3 (0.00000000 0.11111111 0.88888889) *\n",
            "   3) functionary< 0.5 681 290 2 (0.13509545 0.57415565 0.29074890)  \n",
            "     6) FI3O.credit.score>=0.5 630 248 2 (0.14603175 0.60634921 0.24761905)  \n",
            "      12) re.balanced..paid.back..a.recently.overdrawn.current.acount>=0.5 584 213 2 (0.15410959 0.63527397 0.21061644) *\n",
            "      13) re.balanced..paid.back..a.recently.overdrawn.current.acount< 0.5 46  13 3 (0.04347826 0.23913043 0.71739130) *\n",
            "     7) FI3O.credit.score< 0.5 51   9 3 (0.00000000 0.17647059 0.82352941) *\n"
          ]
        }
      ]
    },
    {
      "cell_type": "code",
      "source": [
        "rpart.plot(model)"
      ],
      "metadata": {
        "colab": {
          "base_uri": "https://localhost:8080/",
          "height": 437
        },
        "id": "ojj_U5syJx3G",
        "outputId": "1dcd69ac-7ef5-436f-bd27-c90c0c4272d1"
      },
      "execution_count": null,
      "outputs": [
        {
          "output_type": "display_data",
          "data": {
            "text/plain": [
              "plot without title"
            ],
            "image/png": "[encoded data removed]"
          },
          "metadata": {
            "image/png": {
              "width": 420,
              "height": 420
            }
          }
        }
      ]
    },
    {
      "cell_type": "code",
      "source": [
        "summary(model)"
      ],
      "metadata": {
        "colab": {
          "base_uri": "https://localhost:8080/"
        },
        "id": "wTn873a2gezl",
        "outputId": "27946224-5403-4329-d689-778e68c3250e"
      },
      "execution_count": null,
      "outputs": [
        {
          "output_type": "stream",
          "name": "stdout",
          "text": [
            "Call:\n",
            "rpart(formula = train$credit.rating ~ ., data = train)\n",
            "  n= 981 \n",
            "\n",
            "          CP nsplit rel error    xerror       xstd\n",
            "1 0.10450820      0 1.0000000 1.0000000 0.03209069\n",
            "2 0.06762295      1 0.8954918 0.8954918 0.03189964\n",
            "3 0.04508197      2 0.8278689 0.8278689 0.03158816\n",
            "4 0.01639344      3 0.7827869 0.7827869 0.03129614\n",
            "5 0.01000000      4 0.7663934 0.7889344 0.03134001\n",
            "\n",
            "Variable importance\n",
            "                                                functionary \n",
            "                                                         47 \n",
            "                                          FI3O.credit.score \n",
            "                                                         35 \n",
            "re.balanced..paid.back..a.recently.overdrawn.current.acount \n",
            "                                                         19 \n",
            "\n",
            "Node number 1: 981 observations,    complexity param=0.1045082\n",
            "  predicted class=2  expected loss=0.4974516  P(node) =1\n",
            "    class counts:   245   493   243\n",
            "   probabilities: 0.250 0.503 0.248 \n",
            "  left son=2 (300 obs) right son=3 (681 obs)\n",
            "  Primary splits:\n",
            "      functionary                                                 < 0.5 to the right, improve=44.815330, (0 missing)\n",
            "      FI3O.credit.score                                           < 0.5 to the right, improve=33.114220, (0 missing)\n",
            "      re.balanced..paid.back..a.recently.overdrawn.current.acount < 0.5 to the right, improve=19.522500, (0 missing)\n",
            "      credit.refused.in.past.                                     < 0.5 to the left,  improve=13.166610, (0 missing)\n",
            "      avrg..account.balance.3.months.ago                          < 3.5 to the right, improve= 2.370539, (0 missing)\n",
            "\n",
            "Node number 2: 300 observations,    complexity param=0.01639344\n",
            "  predicted class=1  expected loss=0.49  P(node) =0.3058104\n",
            "    class counts:   153   102    45\n",
            "   probabilities: 0.510 0.340 0.150 \n",
            "  left son=4 (291 obs) right son=5 (9 obs)\n",
            "  Primary splits:\n",
            "      FI3O.credit.score                   < 0.5 to the right, improve=7.964971, (0 missing)\n",
            "      credit.refused.in.past.             < 0.5 to the left,  improve=3.703636, (0 missing)\n",
            "      avrg..account.balance.12.months.ago < 2.5 to the left,  improve=3.181923, (0 missing)\n",
            "      max..account.balance.5.months.ago   < 4.5 to the right, improve=3.024629, (0 missing)\n",
            "      avrg..account.balance.9.months.ago  < 4.5 to the left,  improve=2.068641, (0 missing)\n",
            "\n",
            "Node number 3: 681 observations,    complexity param=0.06762295\n",
            "  predicted class=2  expected loss=0.4258443  P(node) =0.6941896\n",
            "    class counts:    92   391   198\n",
            "   probabilities: 0.135 0.574 0.291 \n",
            "  left son=6 (630 obs) right son=7 (51 obs)\n",
            "  Primary splits:\n",
            "      FI3O.credit.score                                           < 0.5 to the right, improve=25.373440, (0 missing)\n",
            "      re.balanced..paid.back..a.recently.overdrawn.current.acount < 0.5 to the right, improve=18.880810, (0 missing)\n",
            "      credit.refused.in.past.                                     < 0.5 to the left,  improve= 9.565199, (0 missing)\n",
            "      min..account.balance.10.months.ago                          < 3.5 to the left,  improve= 4.616599, (0 missing)\n",
            "      avrg..account.balance.3.months.ago                          < 1.5 to the right, improve= 3.345356, (0 missing)\n",
            "\n",
            "Node number 4: 291 observations\n",
            "  predicted class=1  expected loss=0.4742268  P(node) =0.2966361\n",
            "    class counts:   153   101    37\n",
            "   probabilities: 0.526 0.347 0.127 \n",
            "\n",
            "Node number 5: 9 observations\n",
            "  predicted class=3  expected loss=0.1111111  P(node) =0.009174312\n",
            "    class counts:     0     1     8\n",
            "   probabilities: 0.000 0.111 0.889 \n",
            "\n",
            "Node number 6: 630 observations,    complexity param=0.04508197\n",
            "  predicted class=2  expected loss=0.3936508  P(node) =0.6422018\n",
            "    class counts:    92   382   156\n",
            "   probabilities: 0.146 0.606 0.248 \n",
            "  left son=12 (584 obs) right son=13 (46 obs)\n",
            "  Primary splits:\n",
            "      re.balanced..paid.back..a.recently.overdrawn.current.acount < 0.5 to the right, improve=18.164740, (0 missing)\n",
            "      credit.refused.in.past.                                     < 0.5 to the left,  improve= 8.922020, (0 missing)\n",
            "      min..account.balance.10.months.ago                          < 3.5 to the left,  improve= 4.895767, (0 missing)\n",
            "      avrg..account.balance.12.months.ago                         < 2.5 to the left,  improve= 4.055807, (0 missing)\n",
            "      avrg..account.balance.3.months.ago                          < 3.5 to the right, improve= 3.666998, (0 missing)\n",
            "\n",
            "Node number 7: 51 observations\n",
            "  predicted class=3  expected loss=0.1764706  P(node) =0.05198777\n",
            "    class counts:     0     9    42\n",
            "   probabilities: 0.000 0.176 0.824 \n",
            "\n",
            "Node number 12: 584 observations\n",
            "  predicted class=2  expected loss=0.364726  P(node) =0.5953109\n",
            "    class counts:    90   371   123\n",
            "   probabilities: 0.154 0.635 0.211 \n",
            "\n",
            "Node number 13: 46 observations\n",
            "  predicted class=3  expected loss=0.2826087  P(node) =0.04689093\n",
            "    class counts:     2    11    33\n",
            "   probabilities: 0.043 0.239 0.717 \n",
            "\n"
          ]
        }
      ]
    },
    {
      "cell_type": "markdown",
      "source": [
        "**2c**"
      ],
      "metadata": {
        "id": "HTg1mS12dYpS"
      }
    },
    {
      "cell_type": "code",
      "source": [
        "# Generate predictions using decision tree\n",
        "preds <- predict(model, newdata = test, type =\"class\")"
      ],
      "metadata": {
        "id": "7TwS3GdYdc9k"
      },
      "execution_count": null,
      "outputs": []
    },
    {
      "cell_type": "code",
      "source": [
        "levels(test$credit.rating)\n",
        "levels(preds)\n"
      ],
      "metadata": {
        "id": "wlysB4l6eZaG",
        "colab": {
          "base_uri": "https://localhost:8080/",
          "height": 52
        },
        "outputId": "f8d967d2-e273-4fd3-f67d-88f89a82ca7b"
      },
      "execution_count": null,
      "outputs": [
        {
          "output_type": "display_data",
          "data": {
            "text/html": [
              "<style>\n",
              ".list-inline {list-style: none; margin:0; padding: 0}\n",
              ".list-inline>li {display: inline-block}\n",
              ".list-inline>li:not(:last-child)::after {content: \"\\00b7\"; padding: 0 .5ex}\n",
              "</style>\n",
              "<ol class=list-inline><li>'1'</li><li>'2'</li><li>'3'</li></ol>\n"
            ],
            "text/markdown": "1. '1'\n2. '2'\n3. '3'\n\n\n",
            "text/latex": "\\begin{enumerate*}\n\\item '1'\n\\item '2'\n\\item '3'\n\\end{enumerate*}\n",
            "text/plain": [
              "[1] \"1\" \"2\" \"3\""
            ]
          },
          "metadata": {}
        },
        {
          "output_type": "display_data",
          "data": {
            "text/html": [
              "<style>\n",
              ".list-inline {list-style: none; margin:0; padding: 0}\n",
              ".list-inline>li {display: inline-block}\n",
              ".list-inline>li:not(:last-child)::after {content: \"\\00b7\"; padding: 0 .5ex}\n",
              "</style>\n",
              "<ol class=list-inline><li>'1'</li><li>'2'</li><li>'3'</li></ol>\n"
            ],
            "text/markdown": "1. '1'\n2. '2'\n3. '3'\n\n\n",
            "text/latex": "\\begin{enumerate*}\n\\item '1'\n\\item '2'\n\\item '3'\n\\end{enumerate*}\n",
            "text/plain": [
              "[1] \"1\" \"2\" \"3\""
            ]
          },
          "metadata": {}
        }
      ]
    },
    {
      "cell_type": "code",
      "source": [
        "# Calculate the confusion matrix using confusionMatrix() function\n",
        "cm <- confusionMatrix(test$credit.rating, preds)\n",
        "print(cm)"
      ],
      "metadata": {
        "colab": {
          "base_uri": "https://localhost:8080/"
        },
        "id": "NqSjtccDdS3m",
        "outputId": "93e9b8d2-d9be-41e0-dd56-c8bab7614dfc"
      },
      "execution_count": null,
      "outputs": [
        {
          "output_type": "stream",
          "name": "stdout",
          "text": [
            "Confusion Matrix and Statistics\n",
            "\n",
            "          Reference\n",
            "Prediction   1   2   3\n",
            "         1 139  92   7\n",
            "         2  81 366  30\n",
            "         3  42 146  78\n",
            "\n",
            "Overall Statistics\n",
            "                                          \n",
            "               Accuracy : 0.5943          \n",
            "                 95% CI : (0.5628, 0.6252)\n",
            "    No Information Rate : 0.6157          \n",
            "    P-Value [Acc > NIR] : 0.9206          \n",
            "                                          \n",
            "                  Kappa : 0.3283          \n",
            "                                          \n",
            " Mcnemar's Test P-Value : <2e-16          \n",
            "\n",
            "Statistics by Class:\n",
            "\n",
            "                     Class: 1 Class: 2 Class: 3\n",
            "Sensitivity            0.5305   0.6060  0.67826\n",
            "Specificity            0.8623   0.7056  0.78291\n",
            "Pos Pred Value         0.5840   0.7673  0.29323\n",
            "Neg Pred Value         0.8345   0.5278  0.94825\n",
            "Prevalence             0.2671   0.6157  0.11723\n",
            "Detection Rate         0.1417   0.3731  0.07951\n",
            "Detection Prevalence   0.2426   0.4862  0.27115\n",
            "Balanced Accuracy      0.6964   0.6558  0.73059\n"
          ]
        }
      ]
    },
    {
      "cell_type": "markdown",
      "source": [
        "**2d**"
      ],
      "metadata": {
        "id": "g9vFpw65_ED-"
      }
    },
    {
      "cell_type": "markdown",
      "source": [
        "The difference in entropy is known as the Information\n",
        "Gain. Entropy can be used as a criterion to select the best\n",
        "branching variables and cutpoints, although it is not the\n",
        "only possibility."
      ],
      "metadata": {
        "id": "JIwc7eL8i5im"
      }
    },
    {
      "cell_type": "markdown",
      "source": [
        "*Entropy of the root node:*\n",
        "\n",
        "Entropy_root = - (0.24974516 * log2(0.24974516) + 0.50254842 * log2(0.50254842) + 0.24770642 * log2(0.24770642))\n",
        "\n",
        "Entropy_root = 1.497\n",
        "\n",
        "*Entropy of the left child node:*\n",
        "Entropy_left_child = - (0.51 * log2(0.51) + 0.34 * log2(0.34) + 0.15 * log2(0.15))\n",
        "\n",
        "Entropy_left_child = 1.435\n",
        "\n",
        "\n",
        "*Entropy of the right child node:*\n",
        "Entropy_right_child = - (0.13509545 * log2(0.13509545) + 0.57415565 * log2(0.57415565) + 0.29074890 * log2(0.29074890))\n",
        "\n",
        "Entropy_right_child = 1.368\n",
        "\n",
        "*Weighted average entropy of the child nodes:*\n",
        "(1.435+1.368)/2 = 1.401\n",
        "\n",
        "*Information gain after the first split:\n",
        " 1.497 - 1.401 = 0.096 = ~ 0.10"
      ],
      "metadata": {
        "id": "o1z0e-5fmcmN"
      }
    },
    {
      "cell_type": "markdown",
      "source": [
        "## Random Forest"
      ],
      "metadata": {
        "id": "uPyOyU74hXds"
      }
    },
    {
      "cell_type": "code",
      "source": [
        "library(randomForest)"
      ],
      "metadata": {
        "id": "DwOEWgiXhY9P"
      },
      "execution_count": null,
      "outputs": []
    },
    {
      "cell_type": "code",
      "source": [
        "# Build the random forest classifier\n",
        "rf <- randomForest(credit.rating ~ ., data = train, ntree = 100)\n",
        "\n"
      ],
      "metadata": {
        "id": "elS-qQN2hcK9"
      },
      "execution_count": null,
      "outputs": []
    },
    {
      "cell_type": "code",
      "source": [
        "# Predictions on train data\n",
        "p1 <- predict(rf, train)\n",
        "\n",
        "# Create a confusion matrix from the predictions and actual values\n",
        "cm <- table(train$credit.rating, p1)\n",
        "\n",
        "# Calculate accuracy\n",
        "accuracy <- sum(diag(cm)) / sum(cm)\n",
        "\n",
        "# Print the confusion matrix\n",
        "print(cm)\n",
        "\n",
        "# Print the accuracy\n",
        "print(accuracy)\n"
      ],
      "metadata": {
        "colab": {
          "base_uri": "https://localhost:8080/"
        },
        "id": "Ofcj6cnIhlm6",
        "outputId": "1734f45e-1ad7-4029-fa65-6fd228b612c0"
      },
      "execution_count": null,
      "outputs": [
        {
          "output_type": "stream",
          "name": "stdout",
          "text": [
            "   p1\n",
            "      1   2   3\n",
            "  1 240   5   0\n",
            "  2   1 492   0\n",
            "  3   0   3 240\n",
            "[1] 0.9908257\n"
          ]
        }
      ]
    },
    {
      "cell_type": "code",
      "source": [
        "# confusion matrix for test data\n",
        "p2 <- predict(rf, test)\n",
        "\n",
        "# Create a confusion matrix from the predictions and actual values\n",
        "cm <- table(test$credit.rating, p2)\n",
        "\n",
        "# Calculate accuracy\n",
        "accuracy <- sum(diag(cm)) / sum(cm)\n",
        "\n",
        "# Print the confusion matrix\n",
        "print(cm)\n",
        "\n",
        "# Print the accuracy\n",
        "print(accuracy)\n"
      ],
      "metadata": {
        "colab": {
          "base_uri": "https://localhost:8080/"
        },
        "id": "sXe4ZVa0kQwT",
        "outputId": "b78e0712-9b92-44d4-90af-5118e636dcdc"
      },
      "execution_count": null,
      "outputs": [
        {
          "output_type": "stream",
          "name": "stdout",
          "text": [
            "   p2\n",
            "      1   2   3\n",
            "  1  70 150  18\n",
            "  2  70 348  59\n",
            "  3  42 160  64\n",
            "[1] 0.4913354\n"
          ]
        }
      ]
    },
    {
      "cell_type": "markdown",
      "source": [
        "The accuracy of decision tree is 59%, whereas Random forest produces a 57% accuracy"
      ],
      "metadata": {
        "id": "k2Gt4ib-oz1M"
      }
    },
    {
      "cell_type": "markdown",
      "source": [
        "\n",
        "# SVM"
      ],
      "metadata": {
        "id": "OB0zWdaTknmG"
      }
    },
    {
      "cell_type": "code",
      "source": [
        "install.packages(c(\"caTools\", \"e1071\"))\n",
        "library(\"dplyr\")\n",
        "library(\"caTools\")\n",
        "library(\"e1071\")"
      ],
      "metadata": {
        "colab": {
          "base_uri": "https://localhost:8080/"
        },
        "id": "SqshoMgvkru2",
        "outputId": "50ffd340-4d65-49c0-ac05-8261e1279e26"
      },
      "execution_count": null,
      "outputs": [
        {
          "output_type": "stream",
          "name": "stderr",
          "text": [
            "Installing packages into ‘/usr/local/lib/R/site-library’\n",
            "(as ‘lib’ is unspecified)\n",
            "\n",
            "also installing the dependency ‘bitops’\n",
            "\n",
            "\n",
            "\n",
            "Attaching package: ‘dplyr’\n",
            "\n",
            "\n",
            "The following object is masked from ‘package:randomForest’:\n",
            "\n",
            "    combine\n",
            "\n",
            "\n",
            "The following objects are masked from ‘package:stats’:\n",
            "\n",
            "    filter, lag\n",
            "\n",
            "\n",
            "The following objects are masked from ‘package:base’:\n",
            "\n",
            "    intersect, setdiff, setequal, union\n",
            "\n",
            "\n"
          ]
        }
      ]
    },
    {
      "cell_type": "markdown",
      "source": [
        "Use support vector machine to predict the credit ratings of customers using all of the other variables in\n",
        "the dataset"
      ],
      "metadata": {
        "id": "dbNyZ_j_kwzw"
      }
    },
    {
      "cell_type": "code",
      "source": [
        "#default svm setting\n",
        "svm_model <- svm(credit.rating ~ ., data = train)\n"
      ],
      "metadata": {
        "id": "q46gTtNTDC09"
      },
      "execution_count": null,
      "outputs": []
    },
    {
      "cell_type": "markdown",
      "source": [
        "After fitting the SVM model, we can now predict the credit rating of a new customer. For example, if a hypothetical “median” customer, i.e., one with the attributes value as below, we can predict their credit rating."
      ],
      "metadata": {
        "id": "DgFiJ08qEJPQ"
      }
    },
    {
      "cell_type": "code",
      "source": [
        "#create a dataframe to store median customer\n",
        "\n",
        "customer <- data.frame(\n",
        "  functionary = 0,\n",
        "  re.balanced..paid.back..a.recently.overdrawn.current.acount = 1,\n",
        "  FI3O.credit.score = 1,\n",
        "  gender = 0,\n",
        "  X0..accounts.at.other.banks  = 3,\n",
        "  credit.refused.in.past. = 0,\n",
        "  years.employed = 3,\n",
        "  savings.on.other.accounts = 3,\n",
        "  self.employed. = 0,\n",
        "  max..account.balance.12.months.ago = 3,\n",
        "  min..account.balance.12.months.ago = 3,\n",
        "  avrg..account.balance.12.months.ago = 3,\n",
        "  max..account.balance.11.months.ago = 3,\n",
        "  min..account.balance.11.months.ago = 3,\n",
        "  avrg..account.balance.11.months.ago = 3,\n",
        "  max..account.balance.10.months.ago = 3,\n",
        "  min..account.balance.10.months.ago = 3,\n",
        "  avrg..account.balance.10.months.ago = 3,\n",
        "  max..account.balance.9.months.ago = 3,\n",
        "  min..account.balance.9.months.ago = 3,\n",
        "  avrg..account.balance.9.months.ago = 3,\n",
        "  max..account.balance.8.months.ago = 3,\n",
        "  min..account.balance.8.months.ago = 3,\n",
        "  avrg..account.balance.8.months.ago = 3,\n",
        "  max..account.balance.7.months.ago = 3,\n",
        "  min..account.balance.7.months.ago = 3,\n",
        "  avrg..account.balance.7.months.ago = 3,\n",
        "  max..account.balance.6.months.ago = 3,\n",
        "  min..account.balance.6.months.ago = 3,\n",
        "  avrg..account.balance.6.months.ago = 3,\n",
        "  max..account.balance.5.months.ago = 3,\n",
        "  min..account.balance.5.months.ago = 3,\n",
        "  avrg..account.balance.5.months.ago = 3,\n",
        "  max..account.balance.4.months.ago = 3,\n",
        "  min..account.balance.4.months.ago = 3,\n",
        "  avrg..account.balance.4.months.ago = 3,\n",
        "  max..account.balance.3.months.ago = 3,\n",
        "  min..account.balance.3.months.ago = 3,\n",
        "  avrg..account.balance.3.months.ago = 3,\n",
        "  max..account.balance.2.months.ago = 3,\n",
        "  min..account.balance.2.months.ago = 3,\n",
        "  avrg..account.balance.2.months.ago = 3,\n",
        "  max..account.balance.1.months.ago = 3,\n",
        "  min..account.balance.1.months.ago = 3,\n",
        "  avrg..account.balance.1.months.ago = 3\n",
        ")\n"
      ],
      "metadata": {
        "id": "_OjaZ6ATEI-L"
      },
      "execution_count": null,
      "outputs": []
    },
    {
      "cell_type": "code",
      "source": [
        "svm_pred_customer <- predict(svm_model, newdata = customer)\n",
        "\n",
        "svm_pred_customer\n"
      ],
      "metadata": {
        "colab": {
          "base_uri": "https://localhost:8080/",
          "height": 52
        },
        "id": "E6GnnL0v7BFI",
        "outputId": "548f3171-182a-4f42-a993-806b03a0a164"
      },
      "execution_count": null,
      "outputs": [
        {
          "output_type": "display_data",
          "data": {
            "text/html": [
              "<strong>1:</strong> 2\n",
              "<details>\n",
              "\t<summary style=display:list-item;cursor:pointer>\n",
              "\t\t<strong>Levels</strong>:\n",
              "\t</summary>\n",
              "\t<style>\n",
              "\t.list-inline {list-style: none; margin:0; padding: 0}\n",
              "\t.list-inline>li {display: inline-block}\n",
              "\t.list-inline>li:not(:last-child)::after {content: \"\\00b7\"; padding: 0 .5ex}\n",
              "\t</style>\n",
              "\t<ol class=list-inline><li>'1'</li><li>'2'</li><li>'3'</li></ol>\n",
              "</details>"
            ],
            "text/markdown": "**1:** 2\n**Levels**: 1. '1'\n2. '2'\n3. '3'\n\n\n",
            "text/latex": "\\textbf{1:} 2\n\\emph{Levels}: \\begin{enumerate*}\n\\item '1'\n\\item '2'\n\\item '3'\n\\end{enumerate*}\n",
            "text/plain": [
              "1 \n",
              "2 \n",
              "Levels: 1 2 3"
            ]
          },
          "metadata": {}
        }
      ]
    },
    {
      "cell_type": "markdown",
      "source": [
        "The customer is predicted to have a credit rating = 1, with the decision values = 2. A higher absolute value of the decision value indicates a higher confidence in the prediction. In this case, a decision value of \"2\" suggests that the SVM model is relatively confident in assigning the customer to class \"1\"."
      ],
      "metadata": {
        "id": "9JvjdzpK9Awh"
      }
    },
    {
      "cell_type": "code",
      "source": [
        "#predict the credit rating for test set\n",
        "svm_pred <- predict(svm_model, newdata = test)\n",
        "\n",
        "#connfusion martix for test set\n",
        "svm_cm <- table(Reference = test$credit.rating, Prediction = svm_pred)\n",
        "\n",
        "print(cm)"
      ],
      "metadata": {
        "id": "96ZCdTI2EFny",
        "colab": {
          "base_uri": "https://localhost:8080/"
        },
        "outputId": "5ee9dc16-8460-4764-a645-8499a7c1fa68"
      },
      "execution_count": null,
      "outputs": [
        {
          "output_type": "stream",
          "name": "stdout",
          "text": [
            "   p2\n",
            "      1   2   3\n",
            "  1  70 150  18\n",
            "  2  70 348  59\n",
            "  3  42 160  64\n"
          ]
        }
      ]
    },
    {
      "cell_type": "code",
      "source": [
        "#calculate accuracy\n",
        "accuracy_svm <- sum(diag(as.matrix(svm_cm))) /sum(svm_cm)\n",
        "print(accuracy_svm)"
      ],
      "metadata": {
        "colab": {
          "base_uri": "https://localhost:8080/"
        },
        "id": "vcDT6RPr5c5v",
        "outputId": "4339ed94-3e0c-422b-b652-eff671f2294a"
      },
      "execution_count": null,
      "outputs": [
        {
          "output_type": "stream",
          "name": "stdout",
          "text": [
            "[1] 0.587156\n"
          ]
        }
      ]
    },
    {
      "cell_type": "markdown",
      "source": [
        "## Tuning SVM"
      ],
      "metadata": {
        "id": "ayMbW8HF9yHs"
      }
    },
    {
      "cell_type": "code",
      "source": [
        "svm_model <- svm(credit.rating ~ ., data = train, kernel = \"linear\", gamma = 0.5)\n"
      ],
      "metadata": {
        "id": "uVSnpOaj90Xw"
      },
      "execution_count": null,
      "outputs": []
    },
    {
      "cell_type": "code",
      "source": [
        "#predict the credit rating for test set\n",
        "svm_pred <- predict(svm_model, newdata = test)\n",
        "\n",
        "#connfusion martix for test set\n",
        "svm_cm <- table(Reference = test$credit.rating, Prediction = svm_pred)\n",
        "\n",
        "#calculate accuracy\n",
        "accuracy_svm <- sum(diag(as.matrix(svm_cm))) /sum(svm_cm)\n",
        "print(accuracy_svm)"
      ],
      "metadata": {
        "colab": {
          "base_uri": "https://localhost:8080/"
        },
        "id": "ubx0vDyXBF-s",
        "outputId": "93a15895-39c1-4c1b-bd0e-834ef571101f"
      },
      "execution_count": null,
      "outputs": [
        {
          "output_type": "stream",
          "name": "stdout",
          "text": [
            "[1] 0.5993884\n"
          ]
        }
      ]
    },
    {
      "cell_type": "markdown",
      "source": [
        "# Naive Bayes Model"
      ],
      "metadata": {
        "id": "5z6EyzPHzuKq"
      }
    },
    {
      "cell_type": "code",
      "source": [
        "install.packages(c(\"naivebayes\"))\n",
        "library(naivebayes)"
      ],
      "metadata": {
        "colab": {
          "base_uri": "https://localhost:8080/"
        },
        "id": "zzR2ACr296fG",
        "outputId": "dc4884d7-d573-4a5f-ed42-d1efeafbf80a"
      },
      "execution_count": null,
      "outputs": [
        {
          "output_type": "stream",
          "name": "stderr",
          "text": [
            "Installing package into ‘/usr/local/lib/R/site-library’\n",
            "(as ‘lib’ is unspecified)\n",
            "\n",
            "naivebayes 0.9.7 loaded\n",
            "\n"
          ]
        }
      ]
    },
    {
      "cell_type": "code",
      "source": [
        "# Create the Naive Bayes model\n",
        "nb_model <- naiveBayes(credit.rating ~ ., data = train)\n"
      ],
      "metadata": {
        "id": "2SDqHOodz0Ha"
      },
      "execution_count": null,
      "outputs": []
    },
    {
      "cell_type": "markdown",
      "source": [
        "Similarly, we can predict the credit rating of the hypothetical customer.\n",
        "From the result, using Naive Bayes, the customer has a 98.96% chance of having the credit rating = 1."
      ],
      "metadata": {
        "id": "XvhRnmyu88el"
      }
    },
    {
      "cell_type": "code",
      "source": [
        "# Make predictions on the customer with predicted probabilities\n",
        "nb_probs_customer <- predict(nb_model, newdata = customer, type = \"raw\")\n",
        "\n",
        "# Print the predicted probabilities\n",
        "nb_probs_customer"
      ],
      "metadata": {
        "colab": {
          "base_uri": "https://localhost:8080/",
          "height": 98
        },
        "id": "9T_szii9_H8g",
        "outputId": "4a07c3bc-a89f-4e44-f3b7-c9e11de48ad3"
      },
      "execution_count": null,
      "outputs": [
        {
          "output_type": "display_data",
          "data": {
            "text/html": [
              "<table class=\"dataframe\">\n",
              "<caption>A matrix: 1 × 3 of type dbl</caption>\n",
              "<thead>\n",
              "\t<tr><th scope=col>1</th><th scope=col>2</th><th scope=col>3</th></tr>\n",
              "</thead>\n",
              "<tbody>\n",
              "\t<tr><td>0.9896109</td><td>0.009929232</td><td>0.0004598345</td></tr>\n",
              "</tbody>\n",
              "</table>\n"
            ],
            "text/markdown": "\nA matrix: 1 × 3 of type dbl\n\n| 1 | 2 | 3 |\n|---|---|---|\n| 0.9896109 | 0.009929232 | 0.0004598345 |\n\n",
            "text/latex": "A matrix: 1 × 3 of type dbl\n\\begin{tabular}{lll}\n 1 & 2 & 3\\\\\n\\hline\n\t 0.9896109 & 0.009929232 & 0.0004598345\\\\\n\\end{tabular}\n",
            "text/plain": [
              "     1         2           3           \n",
              "[1,] 0.9896109 0.009929232 0.0004598345"
            ]
          },
          "metadata": {}
        }
      ]
    },
    {
      "cell_type": "code",
      "source": [
        "# Extract the model output\n",
        "nb_output <- nb_model$tables\n",
        "# Subset the output for the first 10 lines\n",
        "nb_output_subset <- head(nb_output, 10)\n",
        "# Print the subset of the output\n",
        "print(nb_output_subset)"
      ],
      "metadata": {
        "colab": {
          "base_uri": "https://localhost:8080/"
        },
        "id": "NqWs0C8CANRS",
        "outputId": "b9e9a2f7-9378-4864-986e-a4535a4bf3ef"
      },
      "execution_count": null,
      "outputs": [
        {
          "output_type": "stream",
          "name": "stdout",
          "text": [
            "$functionary\n",
            "   functionary\n",
            "Y        [,1]      [,2]\n",
            "  1 0.6244898 0.4852457\n",
            "  2 0.2068966 0.4054922\n",
            "  3 0.1851852 0.3892495\n",
            "\n",
            "$re.balanced..paid.back..a.recently.overdrawn.current.acount\n",
            "   re.balanced..paid.back..a.recently.overdrawn.current.acount\n",
            "Y        [,1]       [,2]\n",
            "  1 0.9918367 0.09016546\n",
            "  2 0.9695740 0.17193075\n",
            "  3 0.8312757 0.37528119\n",
            "\n",
            "$FI3O.credit.score\n",
            "   FI3O.credit.score\n",
            "Y        [,1]      [,2]\n",
            "  1 1.0000000 0.0000000\n",
            "  2 0.9797160 0.1411132\n",
            "  3 0.7942387 0.4050912\n",
            "\n",
            "$gender\n",
            "   gender\n",
            "Y        [,1]      [,2]\n",
            "  1 0.5469388 0.4988109\n",
            "  2 0.4929006 0.5004574\n",
            "  3 0.4691358 0.5000765\n",
            "\n",
            "$X0..accounts.at.other.banks\n",
            "   X0..accounts.at.other.banks\n",
            "Y       [,1]     [,2]\n",
            "  1 2.967347 1.419621\n",
            "  2 3.050710 1.445298\n",
            "  3 3.234568 1.459692\n",
            "\n",
            "$credit.refused.in.past.\n",
            "   credit.refused.in.past.\n",
            "Y         [,1]      [,2]\n",
            "  1 0.04081633 0.1982695\n",
            "  2 0.09127789 0.2882964\n",
            "  3 0.23456790 0.4246030\n",
            "\n",
            "$years.employed\n",
            "   years.employed\n",
            "Y       [,1]     [,2]\n",
            "  1 3.008163 1.411289\n",
            "  2 3.034483 1.411634\n",
            "  3 3.012346 1.355983\n",
            "\n",
            "$savings.on.other.accounts\n",
            "   savings.on.other.accounts\n",
            "Y       [,1]     [,2]\n",
            "  1 3.424490 1.855268\n",
            "  2 3.661258 1.801326\n",
            "  3 3.419753 1.796674\n",
            "\n",
            "$self.employed.\n",
            "   self.employed.\n",
            "Y        [,1]      [,2]\n",
            "  1 0.1959184 0.3977185\n",
            "  2 0.1906694 0.3932279\n",
            "  3 0.2181070 0.4138128\n",
            "\n",
            "$max..account.balance.12.months.ago\n",
            "   max..account.balance.12.months.ago\n",
            "Y       [,1]     [,2]\n",
            "  1 2.828571 1.394956\n",
            "  2 2.939148 1.407135\n",
            "  3 3.016461 1.402380\n",
            "\n"
          ]
        }
      ]
    },
    {
      "cell_type": "code",
      "source": [
        "# Make predictions on the test set\n",
        "nb_preds <- predict(nb_model, newdata = test)\n",
        "\n",
        "# Print the confusion matrix\n",
        "cm <- table(test$credit.rating, nb_preds)\n",
        "print(cm)\n",
        "\n",
        "# Calculate accuracy\n",
        "accuracy <- sum(diag(cm)) / sum(cm)\n",
        "print(accuracy)\n"
      ],
      "metadata": {
        "colab": {
          "base_uri": "https://localhost:8080/"
        },
        "id": "pEg-IXKv_FSV",
        "outputId": "ede2193f-393b-4bdb-dd93-da7ce6060860"
      },
      "execution_count": null,
      "outputs": [
        {
          "output_type": "stream",
          "name": "stdout",
          "text": [
            "   nb_preds\n",
            "      1   2   3\n",
            "  1 226   1  11\n",
            "  2 401  18  58\n",
            "  3 142  12 112\n",
            "[1] 0.362895\n"
          ]
        }
      ]
    },
    {
      "cell_type": "markdown",
      "source": [
        "## Analysis"
      ],
      "metadata": {
        "id": "UNEg6sREhi2Z"
      }
    },
    {
      "cell_type": "markdown",
      "source": [
        "So, for this dataset, SVM seems to be the best classifier bases on the overall accuracy rate. On the contrary, Naive Bayes can be considered the worst model with the lowest accuracy rate.\n",
        "![Screen Shot 2023-05-24 at 20.04.42.png](data:image/png;base64,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)"
      ],
      "metadata": {
        "id": "9QPhOdm4-erG"
      }
    },
    {
      "cell_type": "markdown",
      "source": [
        "# Logistic Regression"
      ],
      "metadata": {
        "id": "k3orR0WR_U_q"
      }
    },
    {
      "cell_type": "code",
      "source": [
        "install.packages(c(\"pROC\"))"
      ],
      "metadata": {
        "colab": {
          "base_uri": "https://localhost:8080/"
        },
        "id": "yf3y88KvAu2f",
        "outputId": "7b53b3da-bfee-49f5-f453-0630f4676cf4"
      },
      "execution_count": null,
      "outputs": [
        {
          "output_type": "stream",
          "name": "stderr",
          "text": [
            "Installing package into ‘/usr/local/lib/R/site-library’\n",
            "(as ‘lib’ is unspecified)\n",
            "\n"
          ]
        }
      ]
    },
    {
      "cell_type": "code",
      "source": [
        "library(\"pROC\")"
      ],
      "metadata": {
        "colab": {
          "base_uri": "https://localhost:8080/"
        },
        "id": "DNlSs6z9Cej4",
        "outputId": "2db45541-6d07-41e2-d934-f6d5b7970e5d"
      },
      "execution_count": null,
      "outputs": [
        {
          "output_type": "stream",
          "name": "stderr",
          "text": [
            "Type 'citation(\"pROC\")' for a citation.\n",
            "\n",
            "\n",
            "Attaching package: ‘pROC’\n",
            "\n",
            "\n",
            "The following objects are masked from ‘package:stats’:\n",
            "\n",
            "    cov, smooth, var\n",
            "\n",
            "\n"
          ]
        }
      ]
    },
    {
      "cell_type": "code",
      "source": [
        "# Load the nnet package\n",
        "library(nnet)\n",
        "# Fit the multinomial logistic regression model\n",
        "lr_model <- glm(credit.rating == \"1\" ~ ., data = train, family = binomial)\n",
        "lr_preds <- predict(lr_model, newdata = test)\n",
        "# View the model summary\n",
        "summary(lr_model)\n"
      ],
      "metadata": {
        "colab": {
          "base_uri": "https://localhost:8080/",
          "height": 1000
        },
        "id": "HTg9Avws_Zpr",
        "outputId": "260fa1d8-709d-49df-fb88-4cb5717c3310"
      },
      "execution_count": null,
      "outputs": [
        {
          "output_type": "display_data",
          "data": {
            "text/plain": [
              "\n",
              "Call:\n",
              "glm(formula = credit.rating == \"1\" ~ ., family = binomial, data = train)\n",
              "\n",
              "Coefficients:\n",
              "                                                              Estimate\n",
              "(Intercept)                                                 -16.967890\n",
              "functionary                                                   1.951383\n",
              "re.balanced..paid.back..a.recently.overdrawn.current.acount   2.007671\n",
              "FI3O.credit.score                                            16.204181\n",
              "gender                                                        0.110848\n",
              "X0..accounts.at.other.banks                                  -0.077863\n",
              "credit.refused.in.past.                                      -1.297887\n",
              "years.employed                                                0.797981\n",
              "savings.on.other.accounts                                    -0.678957\n",
              "self.employed.                                                0.013329\n",
              "max..account.balance.12.months.ago                           -0.098037\n",
              "min..account.balance.12.months.ago                           -0.072718\n",
              "avrg..account.balance.12.months.ago                          -0.154475\n",
              "max..account.balance.11.months.ago                           -0.013238\n",
              "min..account.balance.11.months.ago                           -0.053227\n",
              "avrg..account.balance.11.months.ago                          -0.008947\n",
              "max..account.balance.10.months.ago                           -0.005284\n",
              "min..account.balance.10.months.ago                           -0.170413\n",
              "avrg..account.balance.10.months.ago                          -0.079087\n",
              "max..account.balance.9.months.ago                             0.007368\n",
              "min..account.balance.9.months.ago                            -0.013907\n",
              "avrg..account.balance.9.months.ago                           -0.061895\n",
              "max..account.balance.8.months.ago                            -0.078902\n",
              "min..account.balance.8.months.ago                             0.056640\n",
              "avrg..account.balance.8.months.ago                           -0.084367\n",
              "max..account.balance.7.months.ago                             0.007968\n",
              "min..account.balance.7.months.ago                            -0.009398\n",
              "avrg..account.balance.7.months.ago                            0.064803\n",
              "max..account.balance.6.months.ago                            -0.004701\n",
              "min..account.balance.6.months.ago                             0.032692\n",
              "avrg..account.balance.6.months.ago                            0.136193\n",
              "max..account.balance.5.months.ago                             0.050134\n",
              "min..account.balance.5.months.ago                            -0.090495\n",
              "avrg..account.balance.5.months.ago                            0.001910\n",
              "max..account.balance.4.months.ago                             0.005650\n",
              "min..account.balance.4.months.ago                            -0.047362\n",
              "avrg..account.balance.4.months.ago                           -0.013403\n",
              "max..account.balance.3.months.ago                            -0.099156\n",
              "min..account.balance.3.months.ago                            -0.052394\n",
              "avrg..account.balance.3.months.ago                            0.059194\n",
              "max..account.balance.2.months.ago                             0.026477\n",
              "min..account.balance.2.months.ago                            -0.073250\n",
              "avrg..account.balance.2.months.ago                            0.031456\n",
              "max..account.balance.1.months.ago                             0.022554\n",
              "min..account.balance.1.months.ago                            -0.033762\n",
              "avrg..account.balance.1.months.ago                           -0.124448\n",
              "                                                            Std. Error z value\n",
              "(Intercept)                                                 452.776996  -0.037\n",
              "functionary                                                   0.180109  10.834\n",
              "re.balanced..paid.back..a.recently.overdrawn.current.acount   0.756807   2.653\n",
              "FI3O.credit.score                                           452.774921   0.036\n",
              "gender                                                        0.176689   0.627\n",
              "X0..accounts.at.other.banks                                   0.062209  -1.252\n",
              "credit.refused.in.past.                                       0.378854  -3.426\n",
              "years.employed                                                0.280181   2.848\n",
              "savings.on.other.accounts                                     0.213424  -3.181\n",
              "self.employed.                                                0.223498   0.060\n",
              "max..account.balance.12.months.ago                            0.063136  -1.553\n",
              "min..account.balance.12.months.ago                            0.063532  -1.145\n",
              "avrg..account.balance.12.months.ago                           0.063310  -2.440\n",
              "max..account.balance.11.months.ago                            0.063115  -0.210\n",
              "min..account.balance.11.months.ago                            0.061936  -0.859\n",
              "avrg..account.balance.11.months.ago                           0.063774  -0.140\n",
              "max..account.balance.10.months.ago                            0.062196  -0.085\n",
              "min..account.balance.10.months.ago                            0.062551  -2.724\n",
              "avrg..account.balance.10.months.ago                           0.063812  -1.239\n",
              "max..account.balance.9.months.ago                             0.061552   0.120\n",
              "min..account.balance.9.months.ago                             0.062167  -0.224\n",
              "avrg..account.balance.9.months.ago                            0.061610  -1.005\n",
              "max..account.balance.8.months.ago                             0.061707  -1.279\n",
              "min..account.balance.8.months.ago                             0.063255   0.895\n",
              "avrg..account.balance.8.months.ago                            0.064338  -1.311\n",
              "max..account.balance.7.months.ago                             0.062428   0.128\n",
              "min..account.balance.7.months.ago                             0.062448  -0.150\n",
              "avrg..account.balance.7.months.ago                            0.062188   1.042\n",
              "max..account.balance.6.months.ago                             0.062816  -0.075\n",
              "min..account.balance.6.months.ago                             0.062226   0.525\n",
              "avrg..account.balance.6.months.ago                            0.064343   2.117\n",
              "max..account.balance.5.months.ago                             0.060200   0.833\n",
              "min..account.balance.5.months.ago                             0.063159  -1.433\n",
              "avrg..account.balance.5.months.ago                            0.062203   0.031\n",
              "max..account.balance.4.months.ago                             0.061640   0.092\n",
              "min..account.balance.4.months.ago                             0.063166  -0.750\n",
              "avrg..account.balance.4.months.ago                            0.062120  -0.216\n",
              "max..account.balance.3.months.ago                             0.060656  -1.635\n",
              "min..account.balance.3.months.ago                             0.063438  -0.826\n",
              "avrg..account.balance.3.months.ago                            0.062988   0.940\n",
              "max..account.balance.2.months.ago                             0.061595   0.430\n",
              "min..account.balance.2.months.ago                             0.062410  -1.174\n",
              "avrg..account.balance.2.months.ago                            0.062606   0.502\n",
              "max..account.balance.1.months.ago                             0.064211   0.351\n",
              "min..account.balance.1.months.ago                             0.062144  -0.543\n",
              "avrg..account.balance.1.months.ago                            0.061836  -2.013\n",
              "                                                            Pr(>|z|)    \n",
              "(Intercept)                                                 0.970106    \n",
              "functionary                                                  < 2e-16 ***\n",
              "re.balanced..paid.back..a.recently.overdrawn.current.acount 0.007982 ** \n",
              "FI3O.credit.score                                           0.971451    \n",
              "gender                                                      0.530421    \n",
              "X0..accounts.at.other.banks                                 0.210705    \n",
              "credit.refused.in.past.                                     0.000613 ***\n",
              "years.employed                                              0.004398 ** \n",
              "savings.on.other.accounts                                   0.001466 ** \n",
              "self.employed.                                              0.952444    \n",
              "max..account.balance.12.months.ago                          0.120473    \n",
              "min..account.balance.12.months.ago                          0.252379    \n",
              "avrg..account.balance.12.months.ago                         0.014688 *  \n",
              "max..account.balance.11.months.ago                          0.833862    \n",
              "min..account.balance.11.months.ago                          0.390120    \n",
              "avrg..account.balance.11.months.ago                         0.888431    \n",
              "max..account.balance.10.months.ago                          0.932292    \n",
              "min..account.balance.10.months.ago                          0.006442 ** \n",
              "avrg..account.balance.10.months.ago                         0.215206    \n",
              "max..account.balance.9.months.ago                           0.904719    \n",
              "min..account.balance.9.months.ago                           0.822983    \n",
              "avrg..account.balance.9.months.ago                          0.315075    \n",
              "max..account.balance.8.months.ago                           0.201020    \n",
              "min..account.balance.8.months.ago                           0.370559    \n",
              "avrg..account.balance.8.months.ago                          0.189755    \n",
              "max..account.balance.7.months.ago                           0.898433    \n",
              "min..account.balance.7.months.ago                           0.880376    \n",
              "avrg..account.balance.7.months.ago                          0.297393    \n",
              "max..account.balance.6.months.ago                           0.940349    \n",
              "min..account.balance.6.months.ago                           0.599323    \n",
              "avrg..account.balance.6.months.ago                          0.034288 *  \n",
              "max..account.balance.5.months.ago                           0.404963    \n",
              "min..account.balance.5.months.ago                           0.151908    \n",
              "avrg..account.balance.5.months.ago                          0.975503    \n",
              "max..account.balance.4.months.ago                           0.926968    \n",
              "min..account.balance.4.months.ago                           0.453374    \n",
              "avrg..account.balance.4.months.ago                          0.829179    \n",
              "max..account.balance.3.months.ago                           0.102108    \n",
              "min..account.balance.3.months.ago                           0.408857    \n",
              "avrg..account.balance.3.months.ago                          0.347332    \n",
              "max..account.balance.2.months.ago                           0.667299    \n",
              "min..account.balance.2.months.ago                           0.240518    \n",
              "avrg..account.balance.2.months.ago                          0.615352    \n",
              "max..account.balance.1.months.ago                           0.725398    \n",
              "min..account.balance.1.months.ago                           0.586937    \n",
              "avrg..account.balance.1.months.ago                          0.044162 *  \n",
              "---\n",
              "Signif. codes:  0 ‘***’ 0.001 ‘**’ 0.01 ‘*’ 0.05 ‘.’ 0.1 ‘ ’ 1\n",
              "\n",
              "(Dispersion parameter for binomial family taken to be 1)\n",
              "\n",
              "    Null deviance: 1102.75  on 980  degrees of freedom\n",
              "Residual deviance:  840.54  on 935  degrees of freedom\n",
              "AIC: 932.54\n",
              "\n",
              "Number of Fisher Scoring iterations: 16\n"
            ]
          },
          "metadata": {}
        }
      ]
    },
    {
      "cell_type": "markdown",
      "source": [
        "The Logistic Regression model's summary consists of the feature coefficients, which can be utilized to create a linear equation for forecasting credit ratings. Additionally, it provides information about the statistical significance of all the features, enabling the identification of the most important features for the analysis."
      ],
      "metadata": {
        "id": "acodVMEBBnM2"
      }
    },
    {
      "cell_type": "markdown",
      "source": [
        "Below are the features that are significant at a 5% significance level. We can get this from the summary table above, taking the features that has at least one * (5%). The higher the star, the more significant. Similarly, the smaller the Pr(>|z|), the better.\n",
        "\n",
        "1.   functionary\n",
        "2.   re.balanced..paid.back..a.recently.overdrawn.current.acount\n",
        "3. \"credit.refused.in.past.\"\n",
        "4. \"years.employed\"\n",
        "5. \"savings.on.other.accounts\"\n",
        "6. \"avrg..account.balance.12.months.ago\"\n",
        "7. \"min..account.balance.10.months.ago\"\n",
        "8. \"avrg..account.balance.6.months.ago\"\n",
        "9. \"avrg..account.balance.1.months.ago\""
      ],
      "metadata": {
        "id": "7N_1nuvSCBe2"
      }
    },
    {
      "cell_type": "code",
      "source": [
        "# Predict probabilities for the customer data\n",
        "probabilities <- predict(lr_model, newdata = customer, type = \"response\")\n",
        "# View the probabilities\n",
        "probabilities"
      ],
      "metadata": {
        "colab": {
          "base_uri": "https://localhost:8080/",
          "height": 34
        },
        "id": "um6HIRVF_llh",
        "outputId": "bd4fa86a-27fd-48da-875b-0b530ba93a65"
      },
      "execution_count": null,
      "outputs": [
        {
          "output_type": "display_data",
          "data": {
            "text/html": [
              "<strong>1:</strong> 0.189688060457747"
            ],
            "text/markdown": "**1:** 0.189688060457747",
            "text/latex": "\\textbf{1:} 0.189688060457747",
            "text/plain": [
              "        1 \n",
              "0.1896881 "
            ]
          },
          "metadata": {}
        }
      ]
    },
    {
      "cell_type": "markdown",
      "source": [
        "The customer has a 19% of having the credit rating = 1"
      ],
      "metadata": {
        "id": "RW_l9ssH_xi9"
      }
    }
  ]
}